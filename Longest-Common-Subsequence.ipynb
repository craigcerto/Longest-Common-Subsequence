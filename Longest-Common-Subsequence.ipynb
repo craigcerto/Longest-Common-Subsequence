{
 "cells": [
  {
   "cell_type": "markdown",
   "metadata": {},
   "source": [
    "# Longest Common Subsequence\n",
    "\n",
    "Calculates the longest subsequence count of common characters between two strings"
   ]
  },
  {
   "cell_type": "code",
   "execution_count": 47,
   "metadata": {},
   "outputs": [
    {
     "data": {
      "text/plain": [
       "[[0, 0, 0, 0, 0, 0, 0],\n",
       " [0, 0, 1, 1, 1, 1, 1],\n",
       " [0, 0, 1, 2, 2, 2, 2],\n",
       " [0, 0, 1, 2, 2, 2, 2],\n",
       " [0, 0, 1, 2, 2, 3, 3],\n",
       " [0, 0, 1, 2, 2, 3, 3]]"
      ]
     },
     "execution_count": 47,
     "metadata": {},
     "output_type": "execute_result"
    }
   ],
   "source": [
    "s1 = \"ABRAC\"\n",
    "s2 = \"YABBAD\"\n",
    "\n",
    "# 2D array with cumulative longest common subsequences\n",
    "lcs = []\n",
    "\n",
    "# Creating array\n",
    "for i in range(0, len(s1) +1, 1):\n",
    "    lcs.append([])\n",
    "    for j in range(0, len(s2) +1, 1):\n",
    "        lcs[i].append(None)\n",
    "\n",
    "# Adding base case (0) where either string has no characters\n",
    "for i in range(0, len(s1) + 1, 1):\n",
    "    lcs[i][0] = 0\n",
    "for j in range(0, len(s2) + 1, 1):\n",
    "    lcs[0][j] = 0\n",
    "\n",
    "# Iterating through strings\n",
    "# If characters are the same, added as part of sequence\n",
    "# If not, both lists are checked taking away one character and the max is added\n",
    "for i in range(1, len(s1) + 1):\n",
    "    for j in range(1, len(s2) + 1):\n",
    "        index_one = i - 1\n",
    "        index_two = j - 1\n",
    "        if s1[index_one] == s2[index_two]:\n",
    "            lcs[i][j] = lcs[i - 1][j-1] + 1\n",
    "        else:\n",
    "            lcs[i][j] = max(lcs[i - 1][j], lcs[i][j-1])\n",
    "            \n",
    "# Cell in bottom right has final solution\n",
    "lcs[len(s1)][len(s2)]"
   ]
  }
 ],
 "metadata": {
  "kernelspec": {
   "display_name": "Python 3",
   "language": "python",
   "name": "python3"
  },
  "language_info": {
   "codemirror_mode": {
    "name": "ipython",
    "version": 3
   },
   "file_extension": ".py",
   "mimetype": "text/x-python",
   "name": "python",
   "nbconvert_exporter": "python",
   "pygments_lexer": "ipython3",
   "version": "3.8.5"
  }
 },
 "nbformat": 4,
 "nbformat_minor": 4
}
